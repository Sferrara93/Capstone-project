{
 "cells": [
  {
   "cell_type": "code",
   "execution_count": 1,
   "id": "88dccec9-f780-47ee-8603-07f14c05a9d2",
   "metadata": {},
   "outputs": [],
   "source": [
    "import warnings\n",
    "warnings.filterwarnings('ignore')"
   ]
  },
  {
   "cell_type": "code",
   "execution_count": 2,
   "id": "e070e9b5-ec40-4137-b2ca-6a6cb0520114",
   "metadata": {},
   "outputs": [],
   "source": [
    "import pandas as pd\n",
    "import numpy as np\n",
    "import seaborn as sns"
   ]
  },
  {
   "cell_type": "code",
   "execution_count": 3,
   "id": "789b2f78-8629-4141-8c77-8e5d67195e85",
   "metadata": {},
   "outputs": [],
   "source": [
    "df = pd.read_csv('3 gas_data.csv', delimiter=\";\")"
   ]
  },
  {
   "cell_type": "code",
   "execution_count": 4,
   "id": "8da79106-dd53-4043-9f5a-5fe354e1f2f0",
   "metadata": {},
   "outputs": [
    {
     "data": {
      "text/html": [
       "<div>\n",
       "<style scoped>\n",
       "    .dataframe tbody tr th:only-of-type {\n",
       "        vertical-align: middle;\n",
       "    }\n",
       "\n",
       "    .dataframe tbody tr th {\n",
       "        vertical-align: top;\n",
       "    }\n",
       "\n",
       "    .dataframe thead th {\n",
       "        text-align: right;\n",
       "    }\n",
       "</style>\n",
       "<table border=\"1\" class=\"dataframe\">\n",
       "  <thead>\n",
       "    <tr style=\"text-align: right;\">\n",
       "      <th></th>\n",
       "      <th>timestamp (s)</th>\n",
       "      <th>valore % gas</th>\n",
       "      <th>Unnamed: 2</th>\n",
       "      <th>Unnamed: 3</th>\n",
       "      <th>Unnamed: 4</th>\n",
       "    </tr>\n",
       "  </thead>\n",
       "  <tbody>\n",
       "    <tr>\n",
       "      <th>0</th>\n",
       "      <td>59</td>\n",
       "      <td>11.73</td>\n",
       "      <td>07:45</td>\n",
       "      <td>Chieti</td>\n",
       "      <td>04/07/2024</td>\n",
       "    </tr>\n",
       "    <tr>\n",
       "      <th>1</th>\n",
       "      <td>119</td>\n",
       "      <td>11.24</td>\n",
       "      <td>NaN</td>\n",
       "      <td>NaN</td>\n",
       "      <td>NaN</td>\n",
       "    </tr>\n",
       "    <tr>\n",
       "      <th>2</th>\n",
       "      <td>179</td>\n",
       "      <td>11.05</td>\n",
       "      <td>NaN</td>\n",
       "      <td>NaN</td>\n",
       "      <td>NaN</td>\n",
       "    </tr>\n",
       "    <tr>\n",
       "      <th>3</th>\n",
       "      <td>239</td>\n",
       "      <td>11.05</td>\n",
       "      <td>NaN</td>\n",
       "      <td>NaN</td>\n",
       "      <td>NaN</td>\n",
       "    </tr>\n",
       "    <tr>\n",
       "      <th>4</th>\n",
       "      <td>299</td>\n",
       "      <td>10.95</td>\n",
       "      <td>NaN</td>\n",
       "      <td>NaN</td>\n",
       "      <td>NaN</td>\n",
       "    </tr>\n",
       "  </tbody>\n",
       "</table>\n",
       "</div>"
      ],
      "text/plain": [
       "  timestamp (s) valore % gas Unnamed: 2 Unnamed: 3  Unnamed: 4\n",
       "0            59        11.73      07:45     Chieti  04/07/2024\n",
       "1           119        11.24        NaN        NaN         NaN\n",
       "2           179        11.05        NaN        NaN         NaN\n",
       "3           239        11.05        NaN        NaN         NaN\n",
       "4           299        10.95        NaN        NaN         NaN"
      ]
     },
     "execution_count": 4,
     "metadata": {},
     "output_type": "execute_result"
    }
   ],
   "source": [
    "df.head()"
   ]
  },
  {
   "cell_type": "code",
   "execution_count": 5,
   "id": "46922d76-acf9-4fce-9957-60867cbc5f14",
   "metadata": {},
   "outputs": [],
   "source": [
    "df = df.rename(columns={\"valore % gas\": \"gas percentage\", \"Unnamed: 2\": \"time\", \"Unnamed: 3\": \"location\", \"Unnamed: 4\": \"date\"})"
   ]
  },
  {
   "cell_type": "code",
   "execution_count": 6,
   "id": "0d251df3-295d-40e1-8824-c129fea9c9c5",
   "metadata": {},
   "outputs": [
    {
     "data": {
      "text/html": [
       "<div>\n",
       "<style scoped>\n",
       "    .dataframe tbody tr th:only-of-type {\n",
       "        vertical-align: middle;\n",
       "    }\n",
       "\n",
       "    .dataframe tbody tr th {\n",
       "        vertical-align: top;\n",
       "    }\n",
       "\n",
       "    .dataframe thead th {\n",
       "        text-align: right;\n",
       "    }\n",
       "</style>\n",
       "<table border=\"1\" class=\"dataframe\">\n",
       "  <thead>\n",
       "    <tr style=\"text-align: right;\">\n",
       "      <th></th>\n",
       "      <th>timestamp (s)</th>\n",
       "      <th>gas percentage</th>\n",
       "      <th>time</th>\n",
       "      <th>location</th>\n",
       "      <th>date</th>\n",
       "    </tr>\n",
       "  </thead>\n",
       "  <tbody>\n",
       "    <tr>\n",
       "      <th>0</th>\n",
       "      <td>59</td>\n",
       "      <td>11.73</td>\n",
       "      <td>07:45</td>\n",
       "      <td>Chieti</td>\n",
       "      <td>04/07/2024</td>\n",
       "    </tr>\n",
       "    <tr>\n",
       "      <th>1</th>\n",
       "      <td>119</td>\n",
       "      <td>11.24</td>\n",
       "      <td>NaN</td>\n",
       "      <td>NaN</td>\n",
       "      <td>NaN</td>\n",
       "    </tr>\n",
       "    <tr>\n",
       "      <th>2</th>\n",
       "      <td>179</td>\n",
       "      <td>11.05</td>\n",
       "      <td>NaN</td>\n",
       "      <td>NaN</td>\n",
       "      <td>NaN</td>\n",
       "    </tr>\n",
       "    <tr>\n",
       "      <th>3</th>\n",
       "      <td>239</td>\n",
       "      <td>11.05</td>\n",
       "      <td>NaN</td>\n",
       "      <td>NaN</td>\n",
       "      <td>NaN</td>\n",
       "    </tr>\n",
       "    <tr>\n",
       "      <th>4</th>\n",
       "      <td>299</td>\n",
       "      <td>10.95</td>\n",
       "      <td>NaN</td>\n",
       "      <td>NaN</td>\n",
       "      <td>NaN</td>\n",
       "    </tr>\n",
       "    <tr>\n",
       "      <th>...</th>\n",
       "      <td>...</td>\n",
       "      <td>...</td>\n",
       "      <td>...</td>\n",
       "      <td>...</td>\n",
       "      <td>...</td>\n",
       "    </tr>\n",
       "    <tr>\n",
       "      <th>331</th>\n",
       "      <td>3839</td>\n",
       "      <td>8.31</td>\n",
       "      <td>NaN</td>\n",
       "      <td>NaN</td>\n",
       "      <td>NaN</td>\n",
       "    </tr>\n",
       "    <tr>\n",
       "      <th>332</th>\n",
       "      <td>3899</td>\n",
       "      <td>8.50</td>\n",
       "      <td>NaN</td>\n",
       "      <td>NaN</td>\n",
       "      <td>NaN</td>\n",
       "    </tr>\n",
       "    <tr>\n",
       "      <th>333</th>\n",
       "      <td>3959</td>\n",
       "      <td>8.50</td>\n",
       "      <td>NaN</td>\n",
       "      <td>NaN</td>\n",
       "      <td>NaN</td>\n",
       "    </tr>\n",
       "    <tr>\n",
       "      <th>334</th>\n",
       "      <td>4019</td>\n",
       "      <td>8.31</td>\n",
       "      <td>NaN</td>\n",
       "      <td>NaN</td>\n",
       "      <td>NaN</td>\n",
       "    </tr>\n",
       "    <tr>\n",
       "      <th>335</th>\n",
       "      <td>4079</td>\n",
       "      <td>8.31</td>\n",
       "      <td>NaN</td>\n",
       "      <td>NaN</td>\n",
       "      <td>NaN</td>\n",
       "    </tr>\n",
       "  </tbody>\n",
       "</table>\n",
       "<p>336 rows × 5 columns</p>\n",
       "</div>"
      ],
      "text/plain": [
       "    timestamp (s) gas percentage   time location        date\n",
       "0              59          11.73  07:45   Chieti  04/07/2024\n",
       "1             119          11.24    NaN      NaN         NaN\n",
       "2             179          11.05    NaN      NaN         NaN\n",
       "3             239          11.05    NaN      NaN         NaN\n",
       "4             299          10.95    NaN      NaN         NaN\n",
       "..            ...            ...    ...      ...         ...\n",
       "331          3839           8.31    NaN      NaN         NaN\n",
       "332          3899           8.50    NaN      NaN         NaN\n",
       "333          3959           8.50    NaN      NaN         NaN\n",
       "334          4019           8.31    NaN      NaN         NaN\n",
       "335          4079           8.31    NaN      NaN         NaN\n",
       "\n",
       "[336 rows x 5 columns]"
      ]
     },
     "execution_count": 6,
     "metadata": {},
     "output_type": "execute_result"
    }
   ],
   "source": [
    "df"
   ]
  },
  {
   "cell_type": "code",
   "execution_count": 7,
   "id": "8622076d-8ab8-4e6d-870f-52659bab8d40",
   "metadata": {},
   "outputs": [
    {
     "data": {
      "text/plain": [
       "timestamp (s)       0\n",
       "gas percentage      0\n",
       "time              332\n",
       "location          332\n",
       "date              332\n",
       "dtype: int64"
      ]
     },
     "execution_count": 7,
     "metadata": {},
     "output_type": "execute_result"
    }
   ],
   "source": [
    "df.isna().sum()"
   ]
  },
  {
   "cell_type": "code",
   "execution_count": 8,
   "id": "f22a53d3-adf6-4c01-b07a-74562a85b92b",
   "metadata": {},
   "outputs": [],
   "source": [
    "df['location'] = df['location'].ffill()"
   ]
  },
  {
   "cell_type": "code",
   "execution_count": 9,
   "id": "983db037-4772-4fa6-b225-8a797dc49ba1",
   "metadata": {},
   "outputs": [],
   "source": [
    "df['date'] = df['date'].ffill()"
   ]
  },
  {
   "cell_type": "code",
   "execution_count": 10,
   "id": "1ecdc05a-dcd2-42e8-b656-6948ba762fc6",
   "metadata": {},
   "outputs": [
    {
     "data": {
      "text/html": [
       "<div>\n",
       "<style scoped>\n",
       "    .dataframe tbody tr th:only-of-type {\n",
       "        vertical-align: middle;\n",
       "    }\n",
       "\n",
       "    .dataframe tbody tr th {\n",
       "        vertical-align: top;\n",
       "    }\n",
       "\n",
       "    .dataframe thead th {\n",
       "        text-align: right;\n",
       "    }\n",
       "</style>\n",
       "<table border=\"1\" class=\"dataframe\">\n",
       "  <thead>\n",
       "    <tr style=\"text-align: right;\">\n",
       "      <th></th>\n",
       "      <th>timestamp (s)</th>\n",
       "      <th>gas percentage</th>\n",
       "      <th>time</th>\n",
       "      <th>location</th>\n",
       "      <th>date</th>\n",
       "    </tr>\n",
       "  </thead>\n",
       "  <tbody>\n",
       "    <tr>\n",
       "      <th>100</th>\n",
       "      <td>1619</td>\n",
       "      <td>9.78</td>\n",
       "      <td>NaN</td>\n",
       "      <td>San Biase</td>\n",
       "      <td>04/07/2024</td>\n",
       "    </tr>\n",
       "    <tr>\n",
       "      <th>101</th>\n",
       "      <td>1679</td>\n",
       "      <td>9.78</td>\n",
       "      <td>NaN</td>\n",
       "      <td>San Biase</td>\n",
       "      <td>04/07/2024</td>\n",
       "    </tr>\n",
       "    <tr>\n",
       "      <th>102</th>\n",
       "      <td>1739</td>\n",
       "      <td>9.68</td>\n",
       "      <td>NaN</td>\n",
       "      <td>San Biase</td>\n",
       "      <td>04/07/2024</td>\n",
       "    </tr>\n",
       "    <tr>\n",
       "      <th>103</th>\n",
       "      <td>1799</td>\n",
       "      <td>9.78</td>\n",
       "      <td>NaN</td>\n",
       "      <td>San Biase</td>\n",
       "      <td>04/07/2024</td>\n",
       "    </tr>\n",
       "    <tr>\n",
       "      <th>104</th>\n",
       "      <td>1859</td>\n",
       "      <td>9.68</td>\n",
       "      <td>NaN</td>\n",
       "      <td>San Biase</td>\n",
       "      <td>04/07/2024</td>\n",
       "    </tr>\n",
       "    <tr>\n",
       "      <th>105</th>\n",
       "      <td>1919</td>\n",
       "      <td>9.68</td>\n",
       "      <td>NaN</td>\n",
       "      <td>San Biase</td>\n",
       "      <td>04/07/2024</td>\n",
       "    </tr>\n",
       "    <tr>\n",
       "      <th>106</th>\n",
       "      <td>1979</td>\n",
       "      <td>9.78</td>\n",
       "      <td>NaN</td>\n",
       "      <td>San Biase</td>\n",
       "      <td>04/07/2024</td>\n",
       "    </tr>\n",
       "    <tr>\n",
       "      <th>107</th>\n",
       "      <td>2039</td>\n",
       "      <td>9.78</td>\n",
       "      <td>NaN</td>\n",
       "      <td>San Biase</td>\n",
       "      <td>04/07/2024</td>\n",
       "    </tr>\n",
       "    <tr>\n",
       "      <th>108</th>\n",
       "      <td>2099</td>\n",
       "      <td>9.68</td>\n",
       "      <td>NaN</td>\n",
       "      <td>San Biase</td>\n",
       "      <td>04/07/2024</td>\n",
       "    </tr>\n",
       "    <tr>\n",
       "      <th>109</th>\n",
       "      <td>2159</td>\n",
       "      <td>9.29</td>\n",
       "      <td>NaN</td>\n",
       "      <td>San Biase</td>\n",
       "      <td>04/07/2024</td>\n",
       "    </tr>\n",
       "  </tbody>\n",
       "</table>\n",
       "</div>"
      ],
      "text/plain": [
       "    timestamp (s) gas percentage time   location        date\n",
       "100          1619           9.78  NaN  San Biase  04/07/2024\n",
       "101          1679           9.78  NaN  San Biase  04/07/2024\n",
       "102          1739           9.68  NaN  San Biase  04/07/2024\n",
       "103          1799           9.78  NaN  San Biase  04/07/2024\n",
       "104          1859           9.68  NaN  San Biase  04/07/2024\n",
       "105          1919           9.68  NaN  San Biase  04/07/2024\n",
       "106          1979           9.78  NaN  San Biase  04/07/2024\n",
       "107          2039           9.78  NaN  San Biase  04/07/2024\n",
       "108          2099           9.68  NaN  San Biase  04/07/2024\n",
       "109          2159           9.29  NaN  San Biase  04/07/2024"
      ]
     },
     "execution_count": 10,
     "metadata": {},
     "output_type": "execute_result"
    }
   ],
   "source": [
    "df.iloc[100:110]"
   ]
  },
  {
   "cell_type": "code",
   "execution_count": 11,
   "id": "0f813404-1ab3-46eb-ae49-76962bf87acc",
   "metadata": {},
   "outputs": [
    {
     "data": {
      "text/plain": [
       "(336, 5)"
      ]
     },
     "execution_count": 11,
     "metadata": {},
     "output_type": "execute_result"
    }
   ],
   "source": [
    "df.shape"
   ]
  },
  {
   "cell_type": "code",
   "execution_count": 12,
   "id": "26def005-d95b-4c0a-823e-5daa51a14815",
   "metadata": {},
   "outputs": [],
   "source": [
    "df = df[df['timestamp (s)'] != \"timestamp (s)\"]"
   ]
  },
  {
   "cell_type": "code",
   "execution_count": 13,
   "id": "b6feb9c4-55e1-44fc-9e90-7f87e206c975",
   "metadata": {},
   "outputs": [
    {
     "data": {
      "text/plain": [
       "(333, 5)"
      ]
     },
     "execution_count": 13,
     "metadata": {},
     "output_type": "execute_result"
    }
   ],
   "source": [
    "df.shape"
   ]
  },
  {
   "cell_type": "code",
   "execution_count": 14,
   "id": "88145958-11d4-4c51-b23d-2e8dd42783c1",
   "metadata": {},
   "outputs": [
    {
     "data": {
      "text/html": [
       "<div>\n",
       "<style scoped>\n",
       "    .dataframe tbody tr th:only-of-type {\n",
       "        vertical-align: middle;\n",
       "    }\n",
       "\n",
       "    .dataframe tbody tr th {\n",
       "        vertical-align: top;\n",
       "    }\n",
       "\n",
       "    .dataframe thead th {\n",
       "        text-align: right;\n",
       "    }\n",
       "</style>\n",
       "<table border=\"1\" class=\"dataframe\">\n",
       "  <thead>\n",
       "    <tr style=\"text-align: right;\">\n",
       "      <th></th>\n",
       "      <th>timestamp (s)</th>\n",
       "      <th>gas percentage</th>\n",
       "      <th>time</th>\n",
       "      <th>location</th>\n",
       "      <th>date</th>\n",
       "    </tr>\n",
       "  </thead>\n",
       "  <tbody>\n",
       "    <tr>\n",
       "      <th>101</th>\n",
       "      <td>1679</td>\n",
       "      <td>9.78</td>\n",
       "      <td>NaN</td>\n",
       "      <td>San Biase</td>\n",
       "      <td>04/07/2024</td>\n",
       "    </tr>\n",
       "    <tr>\n",
       "      <th>102</th>\n",
       "      <td>1739</td>\n",
       "      <td>9.68</td>\n",
       "      <td>NaN</td>\n",
       "      <td>San Biase</td>\n",
       "      <td>04/07/2024</td>\n",
       "    </tr>\n",
       "    <tr>\n",
       "      <th>103</th>\n",
       "      <td>1799</td>\n",
       "      <td>9.78</td>\n",
       "      <td>NaN</td>\n",
       "      <td>San Biase</td>\n",
       "      <td>04/07/2024</td>\n",
       "    </tr>\n",
       "    <tr>\n",
       "      <th>104</th>\n",
       "      <td>1859</td>\n",
       "      <td>9.68</td>\n",
       "      <td>NaN</td>\n",
       "      <td>San Biase</td>\n",
       "      <td>04/07/2024</td>\n",
       "    </tr>\n",
       "    <tr>\n",
       "      <th>105</th>\n",
       "      <td>1919</td>\n",
       "      <td>9.68</td>\n",
       "      <td>NaN</td>\n",
       "      <td>San Biase</td>\n",
       "      <td>04/07/2024</td>\n",
       "    </tr>\n",
       "    <tr>\n",
       "      <th>106</th>\n",
       "      <td>1979</td>\n",
       "      <td>9.78</td>\n",
       "      <td>NaN</td>\n",
       "      <td>San Biase</td>\n",
       "      <td>04/07/2024</td>\n",
       "    </tr>\n",
       "    <tr>\n",
       "      <th>107</th>\n",
       "      <td>2039</td>\n",
       "      <td>9.78</td>\n",
       "      <td>NaN</td>\n",
       "      <td>San Biase</td>\n",
       "      <td>04/07/2024</td>\n",
       "    </tr>\n",
       "    <tr>\n",
       "      <th>108</th>\n",
       "      <td>2099</td>\n",
       "      <td>9.68</td>\n",
       "      <td>NaN</td>\n",
       "      <td>San Biase</td>\n",
       "      <td>04/07/2024</td>\n",
       "    </tr>\n",
       "    <tr>\n",
       "      <th>109</th>\n",
       "      <td>2159</td>\n",
       "      <td>9.29</td>\n",
       "      <td>NaN</td>\n",
       "      <td>San Biase</td>\n",
       "      <td>04/07/2024</td>\n",
       "    </tr>\n",
       "    <tr>\n",
       "      <th>110</th>\n",
       "      <td>2219</td>\n",
       "      <td>9.78</td>\n",
       "      <td>NaN</td>\n",
       "      <td>San Biase</td>\n",
       "      <td>04/07/2024</td>\n",
       "    </tr>\n",
       "  </tbody>\n",
       "</table>\n",
       "</div>"
      ],
      "text/plain": [
       "    timestamp (s) gas percentage time   location        date\n",
       "101          1679           9.78  NaN  San Biase  04/07/2024\n",
       "102          1739           9.68  NaN  San Biase  04/07/2024\n",
       "103          1799           9.78  NaN  San Biase  04/07/2024\n",
       "104          1859           9.68  NaN  San Biase  04/07/2024\n",
       "105          1919           9.68  NaN  San Biase  04/07/2024\n",
       "106          1979           9.78  NaN  San Biase  04/07/2024\n",
       "107          2039           9.78  NaN  San Biase  04/07/2024\n",
       "108          2099           9.68  NaN  San Biase  04/07/2024\n",
       "109          2159           9.29  NaN  San Biase  04/07/2024\n",
       "110          2219           9.78  NaN  San Biase  04/07/2024"
      ]
     },
     "execution_count": 14,
     "metadata": {},
     "output_type": "execute_result"
    }
   ],
   "source": [
    "df.iloc[100:110]"
   ]
  },
  {
   "cell_type": "code",
   "execution_count": 15,
   "id": "525e7bc6-faa2-4ab2-bbe0-e1ec279427de",
   "metadata": {},
   "outputs": [
    {
     "data": {
      "text/plain": [
       "timestamp (s)     object\n",
       "gas percentage    object\n",
       "time              object\n",
       "location          object\n",
       "date              object\n",
       "dtype: object"
      ]
     },
     "execution_count": 15,
     "metadata": {},
     "output_type": "execute_result"
    }
   ],
   "source": [
    "df.dtypes"
   ]
  },
  {
   "cell_type": "code",
   "execution_count": 16,
   "id": "ed14d67d-3ba6-4e3c-880d-797eeeff643f",
   "metadata": {},
   "outputs": [],
   "source": [
    "df['gas percentage'] = df['gas percentage'].astype(str).astype(float)"
   ]
  },
  {
   "cell_type": "code",
   "execution_count": 17,
   "id": "55eb637e-76f4-4bf5-944d-80fe426b144e",
   "metadata": {},
   "outputs": [],
   "source": [
    "df['timestamp (s)'] = df['timestamp (s)'].astype(str).astype(float)"
   ]
  },
  {
   "cell_type": "code",
   "execution_count": 22,
   "id": "3ea0b30f-61aa-43c5-bc2e-c0fef9fb019f",
   "metadata": {},
   "outputs": [],
   "source": [
    "df['date'] = pd.to_datetime(df['date'],format=\"%d/%m/%Y\")"
   ]
  },
  {
   "cell_type": "code",
   "execution_count": 23,
   "id": "922f5bd3-6432-40af-9d5c-1fb915f1f927",
   "metadata": {},
   "outputs": [],
   "source": [
    "df['time'] = pd.to_datetime(df['time'])"
   ]
  },
  {
   "cell_type": "code",
   "execution_count": 24,
   "id": "983d90cf-b767-4b9a-95f6-7b07b3c52d12",
   "metadata": {},
   "outputs": [],
   "source": [
    "df['time_filled'] = df['time'].fillna(method='ffill')"
   ]
  },
  {
   "cell_type": "code",
   "execution_count": 25,
   "id": "7b2b16c0-30e0-4ee0-a89d-0ffaca9c6d6f",
   "metadata": {},
   "outputs": [],
   "source": [
    "from datetime import datetime, timedelta\n",
    "\n",
    "def compute_new_time(row):\n",
    "    if pd.isnull(row['time']):\n",
    "        return row['time_filled'] + timedelta(seconds=row['timestamp (s)'])\n",
    "    return row['time']\n",
    "\n",
    "df['new_time'] = df.apply(compute_new_time, axis=1)\n"
   ]
  },
  {
   "cell_type": "code",
   "execution_count": 26,
   "id": "bb9d2f96-92a7-48c6-ac96-64fb4120c37d",
   "metadata": {},
   "outputs": [],
   "source": [
    "df['new_time'] = df['new_time'].dt.time"
   ]
  },
  {
   "cell_type": "code",
   "execution_count": 27,
   "id": "fccd0388-d4e4-4ad2-82f7-2a7d96d28523",
   "metadata": {},
   "outputs": [],
   "source": [
    "df.drop(columns=['time','time_filled','timestamp (s)'], inplace=True)"
   ]
  },
  {
   "cell_type": "code",
   "execution_count": 28,
   "id": "781099e9-1e73-4857-8d18-6d4859b31fc5",
   "metadata": {},
   "outputs": [],
   "source": [
    "df = df.rename(columns={'new_time': 'time'})"
   ]
  },
  {
   "cell_type": "code",
   "execution_count": 29,
   "id": "7f009528-f388-401c-a957-b67bb2ff9ad3",
   "metadata": {},
   "outputs": [],
   "source": [
    "location_id = {\n",
    "    'Guardiagrele': '001',\n",
    "    'Chieti': '002',\n",
    "    'San Biase': '003',\n",
    "    'Monopoli': '004'    \n",
    "}\n",
    "\n",
    "df['location_id'] = df['location'].map(location_id)"
   ]
  },
  {
   "cell_type": "code",
   "execution_count": 30,
   "id": "8985319a-8967-4120-a352-806758f047d4",
   "metadata": {},
   "outputs": [],
   "source": [
    "df = df.reindex(columns=['date', 'time', 'location_id', 'location', 'gas percentage'])"
   ]
  },
  {
   "cell_type": "code",
   "execution_count": 31,
   "id": "0b051305-2233-43dc-8365-1e5ecfd803ad",
   "metadata": {},
   "outputs": [
    {
     "data": {
      "text/html": [
       "<div>\n",
       "<style scoped>\n",
       "    .dataframe tbody tr th:only-of-type {\n",
       "        vertical-align: middle;\n",
       "    }\n",
       "\n",
       "    .dataframe tbody tr th {\n",
       "        vertical-align: top;\n",
       "    }\n",
       "\n",
       "    .dataframe thead th {\n",
       "        text-align: right;\n",
       "    }\n",
       "</style>\n",
       "<table border=\"1\" class=\"dataframe\">\n",
       "  <thead>\n",
       "    <tr style=\"text-align: right;\">\n",
       "      <th></th>\n",
       "      <th>date</th>\n",
       "      <th>time</th>\n",
       "      <th>location_id</th>\n",
       "      <th>location</th>\n",
       "      <th>gas percentage</th>\n",
       "    </tr>\n",
       "  </thead>\n",
       "  <tbody>\n",
       "    <tr>\n",
       "      <th>0</th>\n",
       "      <td>2024-07-04</td>\n",
       "      <td>07:45:00</td>\n",
       "      <td>002</td>\n",
       "      <td>Chieti</td>\n",
       "      <td>11.73</td>\n",
       "    </tr>\n",
       "    <tr>\n",
       "      <th>1</th>\n",
       "      <td>2024-07-04</td>\n",
       "      <td>07:46:59</td>\n",
       "      <td>002</td>\n",
       "      <td>Chieti</td>\n",
       "      <td>11.24</td>\n",
       "    </tr>\n",
       "    <tr>\n",
       "      <th>2</th>\n",
       "      <td>2024-07-04</td>\n",
       "      <td>07:47:59</td>\n",
       "      <td>002</td>\n",
       "      <td>Chieti</td>\n",
       "      <td>11.05</td>\n",
       "    </tr>\n",
       "    <tr>\n",
       "      <th>3</th>\n",
       "      <td>2024-07-04</td>\n",
       "      <td>07:48:59</td>\n",
       "      <td>002</td>\n",
       "      <td>Chieti</td>\n",
       "      <td>11.05</td>\n",
       "    </tr>\n",
       "    <tr>\n",
       "      <th>4</th>\n",
       "      <td>2024-07-04</td>\n",
       "      <td>07:49:59</td>\n",
       "      <td>002</td>\n",
       "      <td>Chieti</td>\n",
       "      <td>10.95</td>\n",
       "    </tr>\n",
       "    <tr>\n",
       "      <th>...</th>\n",
       "      <td>...</td>\n",
       "      <td>...</td>\n",
       "      <td>...</td>\n",
       "      <td>...</td>\n",
       "      <td>...</td>\n",
       "    </tr>\n",
       "    <tr>\n",
       "      <th>331</th>\n",
       "      <td>2024-07-12</td>\n",
       "      <td>20:28:59</td>\n",
       "      <td>001</td>\n",
       "      <td>Guardiagrele</td>\n",
       "      <td>8.31</td>\n",
       "    </tr>\n",
       "    <tr>\n",
       "      <th>332</th>\n",
       "      <td>2024-07-12</td>\n",
       "      <td>20:29:59</td>\n",
       "      <td>001</td>\n",
       "      <td>Guardiagrele</td>\n",
       "      <td>8.50</td>\n",
       "    </tr>\n",
       "    <tr>\n",
       "      <th>333</th>\n",
       "      <td>2024-07-12</td>\n",
       "      <td>20:30:59</td>\n",
       "      <td>001</td>\n",
       "      <td>Guardiagrele</td>\n",
       "      <td>8.50</td>\n",
       "    </tr>\n",
       "    <tr>\n",
       "      <th>334</th>\n",
       "      <td>2024-07-12</td>\n",
       "      <td>20:31:59</td>\n",
       "      <td>001</td>\n",
       "      <td>Guardiagrele</td>\n",
       "      <td>8.31</td>\n",
       "    </tr>\n",
       "    <tr>\n",
       "      <th>335</th>\n",
       "      <td>2024-07-12</td>\n",
       "      <td>20:32:59</td>\n",
       "      <td>001</td>\n",
       "      <td>Guardiagrele</td>\n",
       "      <td>8.31</td>\n",
       "    </tr>\n",
       "  </tbody>\n",
       "</table>\n",
       "<p>333 rows × 5 columns</p>\n",
       "</div>"
      ],
      "text/plain": [
       "          date      time location_id      location  gas percentage\n",
       "0   2024-07-04  07:45:00         002        Chieti           11.73\n",
       "1   2024-07-04  07:46:59         002        Chieti           11.24\n",
       "2   2024-07-04  07:47:59         002        Chieti           11.05\n",
       "3   2024-07-04  07:48:59         002        Chieti           11.05\n",
       "4   2024-07-04  07:49:59         002        Chieti           10.95\n",
       "..         ...       ...         ...           ...             ...\n",
       "331 2024-07-12  20:28:59         001  Guardiagrele            8.31\n",
       "332 2024-07-12  20:29:59         001  Guardiagrele            8.50\n",
       "333 2024-07-12  20:30:59         001  Guardiagrele            8.50\n",
       "334 2024-07-12  20:31:59         001  Guardiagrele            8.31\n",
       "335 2024-07-12  20:32:59         001  Guardiagrele            8.31\n",
       "\n",
       "[333 rows x 5 columns]"
      ]
     },
     "execution_count": 31,
     "metadata": {},
     "output_type": "execute_result"
    }
   ],
   "source": [
    "df"
   ]
  },
  {
   "cell_type": "code",
   "execution_count": 32,
   "id": "a7d2c6d6-3ab3-4d81-8654-a118c2f1e0eb",
   "metadata": {},
   "outputs": [],
   "source": [
    "df.to_csv('5 gas_data_cleaned.csv')"
   ]
  },
  {
   "cell_type": "code",
   "execution_count": 33,
   "id": "5c10d861-2efa-4ea9-b61e-1d725db218de",
   "metadata": {},
   "outputs": [],
   "source": [
    "data_locations = {\n",
    "    'location_id': ['001','002','003','004'],\n",
    "    'location_name': ['Guardiagrele','Chieti','San Biase','Monopoli'],\n",
    "    'inhabitants': [8317, 50770, 165, 49916],\n",
    "    'number of firms': [766, 4140, 11, 3547],\n",
    "    'number of vehicles': [9136, 46509, 152, 42493]\n",
    "}"
   ]
  },
  {
   "cell_type": "code",
   "execution_count": 34,
   "id": "23cfbaef-b73b-49b4-a484-31aaf7bd4bfe",
   "metadata": {},
   "outputs": [],
   "source": [
    "df_2 = pd.DataFrame(data_locations)"
   ]
  },
  {
   "cell_type": "code",
   "execution_count": 35,
   "id": "bc4d7e07-fa13-4e17-b4aa-53e5c719b523",
   "metadata": {},
   "outputs": [],
   "source": [
    "df_2.to_csv('locations.csv')"
   ]
  }
 ],
 "metadata": {
  "kernelspec": {
   "display_name": "Python 3 (ipykernel)",
   "language": "python",
   "name": "python3"
  },
  "language_info": {
   "codemirror_mode": {
    "name": "ipython",
    "version": 3
   },
   "file_extension": ".py",
   "mimetype": "text/x-python",
   "name": "python",
   "nbconvert_exporter": "python",
   "pygments_lexer": "ipython3",
   "version": "3.11.7"
  }
 },
 "nbformat": 4,
 "nbformat_minor": 5
}
